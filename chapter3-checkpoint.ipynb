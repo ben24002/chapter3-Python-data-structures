{
 "cells": [
  {
   "cell_type": "markdown",
   "id": "9a324887",
   "metadata": {},
   "source": [
    "### my_dictionary ={\"knowledge\": \"Data Science\",\"tool\": \"python\",\"year\": 2020}"
   ]
  },
  {
   "cell_type": "markdown",
   "id": "6cfe1f2a",
   "metadata": {},
   "source": [
    "for key in my_dictionary.keys():     # Loop Through dictionary keys\n",
    "     print(key)"
   ]
  },
  {
   "cell_type": "markdown",
   "id": "6b5cbe9f",
   "metadata": {},
   "source": [
    "for value in my_dictionary.values():    #  Loop Through dictionary values\n",
    "     print(value)"
   ]
  },
  {
   "cell_type": "markdown",
   "id": "3dd8edf6",
   "metadata": {},
   "source": [
    "for item in my_dictionary.items():     # Loop Through dictionary items\n",
    "      print(item)"
   ]
  },
  {
   "cell_type": "markdown",
   "id": "a7f833e6",
   "metadata": {},
   "source": [
    "print(len(my_dictionary))"
   ]
  },
  {
   "cell_type": "markdown",
   "id": "96bd3a8f",
   "metadata": {},
   "source": [
    "my_dictionary[\"knowledge\"]+=\" hello\"\n",
    "for item in my_dictionary.items():     # Loop Through dictionary items\n",
    "      print(item)"
   ]
  },
  {
   "cell_type": "markdown",
   "id": "5dc3944e",
   "metadata": {},
   "source": [
    "my_dictionary[\"year\"]=\" 2022\"\n",
    "print(my_dictionary[\"year\"])"
   ]
  },
  {
   "cell_type": "markdown",
   "id": "9d394ce8",
   "metadata": {},
   "source": [
    "my_set = {\"python\", \"java\", \"R\"}"
   ]
  },
  {
   "cell_type": "markdown",
   "id": "b2680826",
   "metadata": {},
   "source": [
    "my_set.add(\"scala\")\n",
    "print(my_set)"
   ]
  },
  {
   "cell_type": "markdown",
   "id": "e868f7f3",
   "metadata": {},
   "source": [
    "my_set.remove(\"R\")    #remove \"R\" item\n",
    "print(my_set)"
   ]
  },
  {
   "cell_type": "markdown",
   "id": "9de19ab1",
   "metadata": {},
   "source": [
    "del my_set"
   ]
  },
  {
   "cell_type": "code",
   "execution_count": 40,
   "id": "74701973",
   "metadata": {},
   "outputs": [
    {
     "name": "stdout",
     "output_type": "stream",
     "text": [
      "36\n"
     ]
    }
   ],
   "source": [
    "#exercice 1 :\n",
    "\n",
    "ma_liste=[2,3,6]\n",
    "result=1\n",
    "\n",
    "for i in range (len(ma_liste)) :\n",
    "    result*=ma_liste[i]\n",
    "    \n",
    "print(result)"
   ]
  },
  {
   "cell_type": "code",
   "execution_count": 50,
   "id": "d9d8358b",
   "metadata": {},
   "outputs": [
    {
     "name": "stdout",
     "output_type": "stream",
     "text": [
      "[(2, 1), (1, 2), (2, 3), (4, 4), (2, 5)]\n"
     ]
    }
   ],
   "source": [
    "#exercice 2 :\n",
    "\n",
    "def Sort(sub_li):\n",
    "    l = len(sub_li)\n",
    "    for i in range(0, l):\n",
    "        for j in range(0, l-i-1):\n",
    "            if (sub_li[j][1] > sub_li[j + 1][1]):\n",
    "                tempo = sub_li[j]\n",
    "                sub_li[j]= sub_li[j + 1]\n",
    "                sub_li[j + 1]= tempo\n",
    "    return sub_li\n",
    "\n",
    "sub_li =[(2,5),(1,2),(4,4),(2,3),(2,1)]\n",
    "\n",
    "sorte(sub_li)\n",
    "\n",
    "print(sub_li)"
   ]
  },
  {
   "cell_type": "code",
   "execution_count": 7,
   "id": "0c796852",
   "metadata": {},
   "outputs": [
    {
     "name": "stdout",
     "output_type": "stream",
     "text": [
      "{'a': 400, 'b': 400, 'c': 300, 'd': 400}\n"
     ]
    }
   ],
   "source": [
    "#question 3 :\n",
    "\n",
    "def add (d1,d2) :\n",
    "    d3={}\n",
    "    for i in d1.keys() :\n",
    "        if i in d2:\n",
    "            d3[i]=d1[i] + d2[i]\n",
    "        if i not in d2 :\n",
    "            d3[i]=d1[i]\n",
    "    for j in d2.keys() :\n",
    "        if j not in d1 :\n",
    "            d3[j]=d2[j]\n",
    "    return d3\n",
    "\n",
    "d1={'a':100,'b':200,'c':300}\n",
    "d2={'a':300,'b':200,'d':400}\n",
    "\n",
    "d3 = add(d1,d2)\n",
    "\n",
    "print(d3)"
   ]
  },
  {
   "cell_type": "code",
   "execution_count": 16,
   "id": "f5eb5c09",
   "metadata": {},
   "outputs": [
    {
     "name": "stdout",
     "output_type": "stream",
     "text": [
      "entrer un nombre int :5\n",
      "{1: 1, 2: 4, 3: 9, 4: 16, 5: 25}\n"
     ]
    }
   ],
   "source": [
    "#question 4 :\n",
    "\n",
    "def dictt(n) :\n",
    "    d={}\n",
    "    for i in range (1,n+1) :\n",
    "        d[i]=i*i\n",
    "    return d\n",
    "\n",
    "n=int(input(\"entrer un nombre int :\"))\n",
    "\n",
    "d=dictt(n)\n",
    "\n",
    "print(d)"
   ]
  },
  {
   "cell_type": "code",
   "execution_count": null,
   "id": "579dc18b",
   "metadata": {},
   "outputs": [],
   "source": []
  }
 ],
 "metadata": {
  "kernelspec": {
   "display_name": "Python 3 (ipykernel)",
   "language": "python",
   "name": "python3"
  },
  "language_info": {
   "codemirror_mode": {
    "name": "ipython",
    "version": 3
   },
   "file_extension": ".py",
   "mimetype": "text/x-python",
   "name": "python",
   "nbconvert_exporter": "python",
   "pygments_lexer": "ipython3",
   "version": "3.9.12"
  }
 },
 "nbformat": 4,
 "nbformat_minor": 5
}
